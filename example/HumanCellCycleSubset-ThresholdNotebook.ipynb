{
 "cells": [
  {
   "cell_type": "code",
   "execution_count": 1,
   "metadata": {},
   "outputs": [],
   "source": [
    "%matplotlib inline"
   ]
  },
  {
   "cell_type": "code",
   "execution_count": 2,
   "metadata": {},
   "outputs": [],
   "source": [
    "# python modules\n",
    "import os\n",
    "import glob\n",
    "import seaborn as sns\n",
    "import matplotlib.pyplot as plt\n",
    "import pandas as pd\n",
    "import numpy as np"
   ]
  },
  {
   "cell_type": "code",
   "execution_count": 3,
   "metadata": {},
   "outputs": [],
   "source": [
    "# figure styles\n",
    "sns.set_style(\"darkgrid\", {\"axes.facecolor\": \"0.9\"})"
   ]
  },
  {
   "cell_type": "code",
   "execution_count": 5,
   "metadata": {},
   "outputs": [],
   "source": [
    "# custom functions\n",
    "import combine_analysis_results as car"
   ]
  },
  {
   "cell_type": "code",
   "execution_count": 7,
   "metadata": {},
   "outputs": [],
   "source": [
    "# prefix as supplied to analysis program\n",
    "result_path = os.path.join(\"HumanCellCycleSubset-result\")"
   ]
  },
  {
   "cell_type": "code",
   "execution_count": 8,
   "metadata": {},
   "outputs": [],
   "source": [
    "D, alpha = car.get_result_per_prefix(result_path)"
   ]
  },
  {
   "cell_type": "code",
   "execution_count": 9,
   "metadata": {},
   "outputs": [
    {
     "name": "stdout",
     "output_type": "stream",
     "text": [
      "aplestin            nan\n",
      "cc_inflection       0.610\n",
      "density_min         0.690\n",
      "elo_clustering      nan\n",
      "gupta_clustering    nan\n",
      "mcr_2               nan\n",
      "mcr_3               nan\n",
      "mcr_max             nan\n",
      "rmt                 nan\n",
      "scale_free          0.820\n",
      "single_component    nan\n",
      "spectral_methods    0.790\n",
      "whole_graph         0.600\n",
      "Power-0.8           0.800\n",
      "TypeI-0.01          0.684\n"
     ]
    }
   ],
   "source": [
    "for name, t in D.items():\n",
    "    print(\"%-20s%0.3f\"%(name, t))"
   ]
  },
  {
   "cell_type": "code",
   "execution_count": 10,
   "metadata": {},
   "outputs": [
    {
     "data": {
      "text/plain": [
       "nan"
      ]
     },
     "execution_count": 10,
     "metadata": {},
     "output_type": "execute_result"
    }
   ],
   "source": [
    "alpha"
   ]
  },
  {
   "cell_type": "code",
   "execution_count": 25,
   "metadata": {},
   "outputs": [],
   "source": [
    "# alternatively, fetch dataframe of iterative results \n",
    "iterative_results = glob.glob(result_path + \"*.iterative.txt\")\n",
    "df = car.get_interative_t_values(iterative_results, {})\n",
    "df_plot = df.set_index(\"threshold\", drop=True)"
   ]
  },
  {
   "cell_type": "code",
   "execution_count": 26,
   "metadata": {},
   "outputs": [
    {
     "data": {
      "text/html": [
       "<div>\n",
       "<style scoped>\n",
       "    .dataframe tbody tr th:only-of-type {\n",
       "        vertical-align: middle;\n",
       "    }\n",
       "\n",
       "    .dataframe tbody tr th {\n",
       "        vertical-align: top;\n",
       "    }\n",
       "\n",
       "    .dataframe thead th {\n",
       "        text-align: right;\n",
       "    }\n",
       "</style>\n",
       "<table border=\"1\" class=\"dataframe\">\n",
       "  <thead>\n",
       "    <tr style=\"text-align: right;\">\n",
       "      <th></th>\n",
       "      <th>index</th>\n",
       "      <th>vertex-count</th>\n",
       "      <th>edge-count</th>\n",
       "      <th>connected-component-count</th>\n",
       "      <th>density</th>\n",
       "      <th>density-orig-V</th>\n",
       "      <th>largest-cc-size</th>\n",
       "      <th>2nd-largest-cc-size</th>\n",
       "      <th>clustering-coefficient</th>\n",
       "      <th>random-clustering-coefficient</th>\n",
       "      <th>...</th>\n",
       "      <th>maximal-clique-count</th>\n",
       "      <th>clique-number</th>\n",
       "      <th>poisson-chi2</th>\n",
       "      <th>poisson-pvalue</th>\n",
       "      <th>goe-chi2</th>\n",
       "      <th>goe-pvalue</th>\n",
       "      <th>scale-free-KS</th>\n",
       "      <th>scale-free-KS-p-value</th>\n",
       "      <th>scale-free-alpha</th>\n",
       "      <th>dNsv_dt</th>\n",
       "    </tr>\n",
       "    <tr>\n",
       "      <th>threshold</th>\n",
       "      <th></th>\n",
       "      <th></th>\n",
       "      <th></th>\n",
       "      <th></th>\n",
       "      <th></th>\n",
       "      <th></th>\n",
       "      <th></th>\n",
       "      <th></th>\n",
       "      <th></th>\n",
       "      <th></th>\n",
       "      <th></th>\n",
       "      <th></th>\n",
       "      <th></th>\n",
       "      <th></th>\n",
       "      <th></th>\n",
       "      <th></th>\n",
       "      <th></th>\n",
       "      <th></th>\n",
       "      <th></th>\n",
       "      <th></th>\n",
       "      <th></th>\n",
       "    </tr>\n",
       "  </thead>\n",
       "  <tbody>\n",
       "    <tr>\n",
       "      <th>0.60</th>\n",
       "      <td>0</td>\n",
       "      <td>6639</td>\n",
       "      <td>15905</td>\n",
       "      <td>48</td>\n",
       "      <td>0.000722</td>\n",
       "      <td>0.000635</td>\n",
       "      <td>6533</td>\n",
       "      <td>5</td>\n",
       "      <td>NaN</td>\n",
       "      <td>NaN</td>\n",
       "      <td>...</td>\n",
       "      <td>NaN</td>\n",
       "      <td>-1</td>\n",
       "      <td>NaN</td>\n",
       "      <td>NaN</td>\n",
       "      <td>NaN</td>\n",
       "      <td>NaN</td>\n",
       "      <td>0.475226</td>\n",
       "      <td>0.0</td>\n",
       "      <td>2.0</td>\n",
       "      <td>-16.480480</td>\n",
       "    </tr>\n",
       "    <tr>\n",
       "      <th>0.61</th>\n",
       "      <td>1</td>\n",
       "      <td>6514</td>\n",
       "      <td>14532</td>\n",
       "      <td>53</td>\n",
       "      <td>0.000685</td>\n",
       "      <td>0.000580</td>\n",
       "      <td>6394</td>\n",
       "      <td>5</td>\n",
       "      <td>NaN</td>\n",
       "      <td>NaN</td>\n",
       "      <td>...</td>\n",
       "      <td>NaN</td>\n",
       "      <td>-1</td>\n",
       "      <td>NaN</td>\n",
       "      <td>NaN</td>\n",
       "      <td>NaN</td>\n",
       "      <td>NaN</td>\n",
       "      <td>0.457328</td>\n",
       "      <td>0.0</td>\n",
       "      <td>2.0</td>\n",
       "      <td>-15.872587</td>\n",
       "    </tr>\n",
       "    <tr>\n",
       "      <th>0.62</th>\n",
       "      <td>2</td>\n",
       "      <td>6365</td>\n",
       "      <td>13228</td>\n",
       "      <td>73</td>\n",
       "      <td>0.000653</td>\n",
       "      <td>0.000528</td>\n",
       "      <td>6197</td>\n",
       "      <td>5</td>\n",
       "      <td>NaN</td>\n",
       "      <td>NaN</td>\n",
       "      <td>...</td>\n",
       "      <td>NaN</td>\n",
       "      <td>-1</td>\n",
       "      <td>NaN</td>\n",
       "      <td>NaN</td>\n",
       "      <td>NaN</td>\n",
       "      <td>NaN</td>\n",
       "      <td>0.433536</td>\n",
       "      <td>0.0</td>\n",
       "      <td>2.0</td>\n",
       "      <td>-14.659305</td>\n",
       "    </tr>\n",
       "    <tr>\n",
       "      <th>0.63</th>\n",
       "      <td>3</td>\n",
       "      <td>6212</td>\n",
       "      <td>12037</td>\n",
       "      <td>105</td>\n",
       "      <td>0.000624</td>\n",
       "      <td>0.000481</td>\n",
       "      <td>5972</td>\n",
       "      <td>5</td>\n",
       "      <td>NaN</td>\n",
       "      <td>NaN</td>\n",
       "      <td>...</td>\n",
       "      <td>NaN</td>\n",
       "      <td>-1</td>\n",
       "      <td>NaN</td>\n",
       "      <td>NaN</td>\n",
       "      <td>NaN</td>\n",
       "      <td>NaN</td>\n",
       "      <td>0.408152</td>\n",
       "      <td>0.0</td>\n",
       "      <td>2.0</td>\n",
       "      <td>-14.166733</td>\n",
       "    </tr>\n",
       "    <tr>\n",
       "      <th>0.64</th>\n",
       "      <td>4</td>\n",
       "      <td>6046</td>\n",
       "      <td>10852</td>\n",
       "      <td>139</td>\n",
       "      <td>0.000594</td>\n",
       "      <td>0.000433</td>\n",
       "      <td>5722</td>\n",
       "      <td>6</td>\n",
       "      <td>NaN</td>\n",
       "      <td>NaN</td>\n",
       "      <td>...</td>\n",
       "      <td>NaN</td>\n",
       "      <td>-1</td>\n",
       "      <td>NaN</td>\n",
       "      <td>NaN</td>\n",
       "      <td>NaN</td>\n",
       "      <td>NaN</td>\n",
       "      <td>0.375707</td>\n",
       "      <td>0.0</td>\n",
       "      <td>2.0</td>\n",
       "      <td>-13.711000</td>\n",
       "    </tr>\n",
       "  </tbody>\n",
       "</table>\n",
       "<p>5 rows × 22 columns</p>\n",
       "</div>"
      ],
      "text/plain": [
       "           index  vertex-count  edge-count  connected-component-count  \\\n",
       "threshold                                                               \n",
       "0.60           0          6639       15905                         48   \n",
       "0.61           1          6514       14532                         53   \n",
       "0.62           2          6365       13228                         73   \n",
       "0.63           3          6212       12037                        105   \n",
       "0.64           4          6046       10852                        139   \n",
       "\n",
       "            density  density-orig-V  largest-cc-size  2nd-largest-cc-size  \\\n",
       "threshold                                                                   \n",
       "0.60       0.000722        0.000635             6533                    5   \n",
       "0.61       0.000685        0.000580             6394                    5   \n",
       "0.62       0.000653        0.000528             6197                    5   \n",
       "0.63       0.000624        0.000481             5972                    5   \n",
       "0.64       0.000594        0.000433             5722                    6   \n",
       "\n",
       "           clustering-coefficient  random-clustering-coefficient  ...  \\\n",
       "threshold                                                         ...   \n",
       "0.60                          NaN                            NaN  ...   \n",
       "0.61                          NaN                            NaN  ...   \n",
       "0.62                          NaN                            NaN  ...   \n",
       "0.63                          NaN                            NaN  ...   \n",
       "0.64                          NaN                            NaN  ...   \n",
       "\n",
       "           maximal-clique-count  clique-number  poisson-chi2  poisson-pvalue  \\\n",
       "threshold                                                                      \n",
       "0.60                        NaN             -1           NaN             NaN   \n",
       "0.61                        NaN             -1           NaN             NaN   \n",
       "0.62                        NaN             -1           NaN             NaN   \n",
       "0.63                        NaN             -1           NaN             NaN   \n",
       "0.64                        NaN             -1           NaN             NaN   \n",
       "\n",
       "           goe-chi2  goe-pvalue  scale-free-KS  scale-free-KS-p-value  \\\n",
       "threshold                                                               \n",
       "0.60            NaN         NaN       0.475226                    0.0   \n",
       "0.61            NaN         NaN       0.457328                    0.0   \n",
       "0.62            NaN         NaN       0.433536                    0.0   \n",
       "0.63            NaN         NaN       0.408152                    0.0   \n",
       "0.64            NaN         NaN       0.375707                    0.0   \n",
       "\n",
       "           scale-free-alpha    dNsv_dt  \n",
       "threshold                               \n",
       "0.60                    2.0 -16.480480  \n",
       "0.61                    2.0 -15.872587  \n",
       "0.62                    2.0 -14.659305  \n",
       "0.63                    2.0 -14.166733  \n",
       "0.64                    2.0 -13.711000  \n",
       "\n",
       "[5 rows x 22 columns]"
      ]
     },
     "execution_count": 26,
     "metadata": {},
     "output_type": "execute_result"
    }
   ],
   "source": [
    "df_plot.head()"
   ]
  },
  {
   "cell_type": "code",
   "execution_count": 27,
   "metadata": {},
   "outputs": [
    {
     "data": {
      "text/html": [
       "<div>\n",
       "<style scoped>\n",
       "    .dataframe tbody tr th:only-of-type {\n",
       "        vertical-align: middle;\n",
       "    }\n",
       "\n",
       "    .dataframe tbody tr th {\n",
       "        vertical-align: top;\n",
       "    }\n",
       "\n",
       "    .dataframe thead th {\n",
       "        text-align: right;\n",
       "    }\n",
       "</style>\n",
       "<table border=\"1\" class=\"dataframe\">\n",
       "  <thead>\n",
       "    <tr style=\"text-align: right;\">\n",
       "      <th></th>\n",
       "      <th>index</th>\n",
       "      <th>threshold</th>\n",
       "      <th>vertex-count</th>\n",
       "      <th>edge-count</th>\n",
       "      <th>connected-component-count</th>\n",
       "      <th>density</th>\n",
       "      <th>density-orig-V</th>\n",
       "      <th>largest-cc-size</th>\n",
       "      <th>2nd-largest-cc-size</th>\n",
       "      <th>clustering-coefficient</th>\n",
       "      <th>...</th>\n",
       "      <th>maximal-clique-count</th>\n",
       "      <th>clique-number</th>\n",
       "      <th>poisson-chi2</th>\n",
       "      <th>poisson-pvalue</th>\n",
       "      <th>goe-chi2</th>\n",
       "      <th>goe-pvalue</th>\n",
       "      <th>scale-free-KS</th>\n",
       "      <th>scale-free-KS-p-value</th>\n",
       "      <th>scale-free-alpha</th>\n",
       "      <th>dNsv_dt</th>\n",
       "    </tr>\n",
       "  </thead>\n",
       "  <tbody>\n",
       "    <tr>\n",
       "      <th>0</th>\n",
       "      <td>0</td>\n",
       "      <td>0.60</td>\n",
       "      <td>6639</td>\n",
       "      <td>15905</td>\n",
       "      <td>48</td>\n",
       "      <td>0.000722</td>\n",
       "      <td>0.000635</td>\n",
       "      <td>6533</td>\n",
       "      <td>5</td>\n",
       "      <td>NaN</td>\n",
       "      <td>...</td>\n",
       "      <td>NaN</td>\n",
       "      <td>-1</td>\n",
       "      <td>NaN</td>\n",
       "      <td>NaN</td>\n",
       "      <td>NaN</td>\n",
       "      <td>NaN</td>\n",
       "      <td>0.475226</td>\n",
       "      <td>0.0</td>\n",
       "      <td>2.0</td>\n",
       "      <td>-16.480480</td>\n",
       "    </tr>\n",
       "    <tr>\n",
       "      <th>1</th>\n",
       "      <td>1</td>\n",
       "      <td>0.61</td>\n",
       "      <td>6514</td>\n",
       "      <td>14532</td>\n",
       "      <td>53</td>\n",
       "      <td>0.000685</td>\n",
       "      <td>0.000580</td>\n",
       "      <td>6394</td>\n",
       "      <td>5</td>\n",
       "      <td>NaN</td>\n",
       "      <td>...</td>\n",
       "      <td>NaN</td>\n",
       "      <td>-1</td>\n",
       "      <td>NaN</td>\n",
       "      <td>NaN</td>\n",
       "      <td>NaN</td>\n",
       "      <td>NaN</td>\n",
       "      <td>0.457328</td>\n",
       "      <td>0.0</td>\n",
       "      <td>2.0</td>\n",
       "      <td>-15.872587</td>\n",
       "    </tr>\n",
       "    <tr>\n",
       "      <th>2</th>\n",
       "      <td>2</td>\n",
       "      <td>0.62</td>\n",
       "      <td>6365</td>\n",
       "      <td>13228</td>\n",
       "      <td>73</td>\n",
       "      <td>0.000653</td>\n",
       "      <td>0.000528</td>\n",
       "      <td>6197</td>\n",
       "      <td>5</td>\n",
       "      <td>NaN</td>\n",
       "      <td>...</td>\n",
       "      <td>NaN</td>\n",
       "      <td>-1</td>\n",
       "      <td>NaN</td>\n",
       "      <td>NaN</td>\n",
       "      <td>NaN</td>\n",
       "      <td>NaN</td>\n",
       "      <td>0.433536</td>\n",
       "      <td>0.0</td>\n",
       "      <td>2.0</td>\n",
       "      <td>-14.659305</td>\n",
       "    </tr>\n",
       "    <tr>\n",
       "      <th>3</th>\n",
       "      <td>3</td>\n",
       "      <td>0.63</td>\n",
       "      <td>6212</td>\n",
       "      <td>12037</td>\n",
       "      <td>105</td>\n",
       "      <td>0.000624</td>\n",
       "      <td>0.000481</td>\n",
       "      <td>5972</td>\n",
       "      <td>5</td>\n",
       "      <td>NaN</td>\n",
       "      <td>...</td>\n",
       "      <td>NaN</td>\n",
       "      <td>-1</td>\n",
       "      <td>NaN</td>\n",
       "      <td>NaN</td>\n",
       "      <td>NaN</td>\n",
       "      <td>NaN</td>\n",
       "      <td>0.408152</td>\n",
       "      <td>0.0</td>\n",
       "      <td>2.0</td>\n",
       "      <td>-14.166733</td>\n",
       "    </tr>\n",
       "    <tr>\n",
       "      <th>4</th>\n",
       "      <td>4</td>\n",
       "      <td>0.64</td>\n",
       "      <td>6046</td>\n",
       "      <td>10852</td>\n",
       "      <td>139</td>\n",
       "      <td>0.000594</td>\n",
       "      <td>0.000433</td>\n",
       "      <td>5722</td>\n",
       "      <td>6</td>\n",
       "      <td>NaN</td>\n",
       "      <td>...</td>\n",
       "      <td>NaN</td>\n",
       "      <td>-1</td>\n",
       "      <td>NaN</td>\n",
       "      <td>NaN</td>\n",
       "      <td>NaN</td>\n",
       "      <td>NaN</td>\n",
       "      <td>0.375707</td>\n",
       "      <td>0.0</td>\n",
       "      <td>2.0</td>\n",
       "      <td>-13.711000</td>\n",
       "    </tr>\n",
       "  </tbody>\n",
       "</table>\n",
       "<p>5 rows × 23 columns</p>\n",
       "</div>"
      ],
      "text/plain": [
       "   index  threshold  vertex-count  edge-count  connected-component-count  \\\n",
       "0      0       0.60          6639       15905                         48   \n",
       "1      1       0.61          6514       14532                         53   \n",
       "2      2       0.62          6365       13228                         73   \n",
       "3      3       0.63          6212       12037                        105   \n",
       "4      4       0.64          6046       10852                        139   \n",
       "\n",
       "    density  density-orig-V  largest-cc-size  2nd-largest-cc-size  \\\n",
       "0  0.000722        0.000635             6533                    5   \n",
       "1  0.000685        0.000580             6394                    5   \n",
       "2  0.000653        0.000528             6197                    5   \n",
       "3  0.000624        0.000481             5972                    5   \n",
       "4  0.000594        0.000433             5722                    6   \n",
       "\n",
       "   clustering-coefficient  ...  maximal-clique-count  clique-number  \\\n",
       "0                     NaN  ...                   NaN             -1   \n",
       "1                     NaN  ...                   NaN             -1   \n",
       "2                     NaN  ...                   NaN             -1   \n",
       "3                     NaN  ...                   NaN             -1   \n",
       "4                     NaN  ...                   NaN             -1   \n",
       "\n",
       "   poisson-chi2  poisson-pvalue  goe-chi2  goe-pvalue  scale-free-KS  \\\n",
       "0           NaN             NaN       NaN         NaN       0.475226   \n",
       "1           NaN             NaN       NaN         NaN       0.457328   \n",
       "2           NaN             NaN       NaN         NaN       0.433536   \n",
       "3           NaN             NaN       NaN         NaN       0.408152   \n",
       "4           NaN             NaN       NaN         NaN       0.375707   \n",
       "\n",
       "   scale-free-KS-p-value  scale-free-alpha    dNsv_dt  \n",
       "0                    0.0               2.0 -16.480480  \n",
       "1                    0.0               2.0 -15.872587  \n",
       "2                    0.0               2.0 -14.659305  \n",
       "3                    0.0               2.0 -14.166733  \n",
       "4                    0.0               2.0 -13.711000  \n",
       "\n",
       "[5 rows x 23 columns]"
      ]
     },
     "execution_count": 27,
     "metadata": {},
     "output_type": "execute_result"
    }
   ],
   "source": [
    "df.head()"
   ]
  },
  {
   "cell_type": "code",
   "execution_count": 13,
   "metadata": {},
   "outputs": [
    {
     "data": {
      "text/plain": [
       "<matplotlib.axes._subplots.AxesSubplot at 0x7f4cdea92588>"
      ]
     },
     "execution_count": 13,
     "metadata": {},
     "output_type": "execute_result"
    },
    {
     "data": {
      "image/png": "[encoded data removed]",
      "text/plain": [
       "<Figure size 432x288 with 1 Axes>"
      ]
     },
     "metadata": {},
     "output_type": "display_data"
    }
   ],
   "source": [
    "df_plot[\"density\"].plot()"
   ]
  },
  {
   "cell_type": "code",
   "execution_count": 14,
   "metadata": {},
   "outputs": [
    {
     "data": {
      "image/png": "[encoded data removed]",
      "text/plain": [
       "<Figure size 864x432 with 2 Axes>"
      ]
     },
     "metadata": {},
     "output_type": "display_data"
    }
   ],
   "source": [
    "car.plot_t_vs_EV(df_plot, D)"
   ]
  },
  {
   "cell_type": "code",
   "execution_count": 22,
   "metadata": {},
   "outputs": [
    {
     "data": {
      "text/plain": [
       "<matplotlib.axes._subplots.AxesSubplot at 0x7f4cde9589b0>"
      ]
     },
     "execution_count": 22,
     "metadata": {},
     "output_type": "execute_result"
    },
    {
     "data": {
      "image/png": "[encoded data removed]",
      "text/plain": [
       "<Figure size 432x288 with 1 Axes>"
      ]
     },
     "metadata": {},
     "output_type": "display_data"
    }
   ],
   "source": [
    "df_plot[\"2nd-eigenvalue\"].plot()"
   ]
  },
  {
   "cell_type": "code",
   "execution_count": 23,
   "metadata": {},
   "outputs": [
    {
     "data": {
      "text/plain": [
       "<matplotlib.axes._subplots.AxesSubplot at 0x7f4cdb7c25f8>"
      ]
     },
     "execution_count": 23,
     "metadata": {},
     "output_type": "execute_result"
    },
    {
     "data": {
      "image/png": "[encoded data removed]",
      "text/plain": [
       "<Figure size 432x288 with 1 Axes>"
      ]
     },
     "metadata": {},
     "output_type": "display_data"
    }
   ],
   "source": [
    "df_plot[\"almost-disconnected-component-count\"].plot()"
   ]
  },
  {
   "cell_type": "code",
   "execution_count": null,
   "metadata": {
    "collapsed": true
   },
   "outputs": [],
   "source": []
  }
 ],
 "metadata": {
  "kernelspec": {
   "display_name": "Python 3",
   "language": "python",
   "name": "python3"
  },
  "language_info": {
   "codemirror_mode": {
    "name": "ipython",
    "version": 3
   },
   "file_extension": ".py",
   "mimetype": "text/x-python",
   "name": "python",
   "nbconvert_exporter": "python",
   "pygments_lexer": "ipython3",
   "version": "3.6.10"
  }
 },
 "nbformat": 4,
 "nbformat_minor": 2
}
